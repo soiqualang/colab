{
  "nbformat": 4,
  "nbformat_minor": 0,
  "metadata": {
    "colab": {
      "name": "Zalo text to speech.ipynb",
      "provenance": [],
      "collapsed_sections": [],
      "authorship_tag": "ABX9TyMLA7/BcGLeug/s9ek41a6Y",
      "include_colab_link": true
    },
    "kernelspec": {
      "name": "python3",
      "display_name": "Python 3"
    },
    "language_info": {
      "name": "python"
    }
  },
  "cells": [
    {
      "cell_type": "markdown",
      "metadata": {
        "id": "view-in-github",
        "colab_type": "text"
      },
      "source": [
        "<a href=\"https://colab.research.google.com/github/soiqualang/colab/blob/master/Zalo_text_to_speech.ipynb\" target=\"_parent\"><img src=\"https://colab.research.google.com/assets/colab-badge.svg\" alt=\"Open In Colab\"/></a>"
      ]
    },
    {
      "cell_type": "markdown",
      "source": [
        "https://github.com/soiqualang/text-2-speech"
      ],
      "metadata": {
        "id": "m6XzcqfBC5E9"
      }
    },
    {
      "cell_type": "code",
      "execution_count": 13,
      "metadata": {
        "id": "2WkAWI1QC4T7"
      },
      "outputs": [],
      "source": [
        "import sys\n",
        "import requests\n",
        "import os\n",
        "import random\n",
        "import re\n",
        "import time\n",
        "import nltk\n",
        "from urllib.parse import quote"
      ]
    },
    {
      "cell_type": "code",
      "source": [
        "class text2voice:\n",
        "\n",
        "    def zalo_api(payload, voidid, speed):\n",
        "        url = \"https://zalo.ai/api/demo/v1/tts/synthesize\"\n",
        "        f = open(\"output.txt\", \"w\")\n",
        "        links = []\n",
        "        for p in payload:\n",
        "            text = quote(str(p))\n",
        "\n",
        "            # text.encode('utf-8')  # Totally fine.\n",
        "            payload = \"input=\"+text+\"&speaker_id=\" + \\\n",
        "                voidid+\"&speed=\"+speed+\"&dict_id=0\"\n",
        "            headers = {\n",
        "                \"content-type\": \"application/x-www-form-urlencoded; charset=utf-8\",\n",
        "                \"origin\": \"https://zalo.ai\",\n",
        "                \"referer\": \"https://zalo.ai/experiments/text-to-audio-converter\",\n",
        "\n",
        "                \"cookie\": \"zpsid=eMKnVbo-PZEvNHqtDTKIOgHQ7p4nrWzalI47O4wZJssuT3bRV_irVuyWFcWShorgrNnyH1sN7H_cHL08DySx4jayN3Kgv2SblZf95sovCHgQRaSg; zai_did=8k9uAj3FNiTevcSSryzXoYYo64d0o6V3AB4PHJ8q; zpsidleg=eMKnVbo-PZEvNHqtDTKIOgHQ7p4nrWzalI47O4wZJssuT3bRV_irVuyWFcWShorgrNnyH1sN7H_cHL08DySx4jayN3Kgv2SblZf95sovCHgQRaSg; zai_sid=lf2zTzCfGqIZbxznrofUGhhifo2eNnvBlxcP6va7P5c8xPue-bDyJDAnt0JxQqmvuOZmID4xQZJUyVnrp1Xs0xdtwLUAHM0ydQFdQl1IIGRigkzd; __zi=3000.SSZzejyD0jydXQcYsa00d3xBfxgP71AM8Tdbg8yB7SWftQxdY0aRp2gIh-QFHXF2BvMWxp0mDW.1; fpsend=149569; _zlang=vn\"\n",
        "            }\n",
        "\n",
        "            response = requests.request(\n",
        "                \"POST\", url, data=payload.encode('utf-8'), headers=headers)\n",
        "            f.write(response.text+\"\\n\")\n",
        "            time.sleep(5)\n",
        "\n",
        "        out = open('output.txt', 'r').read()\n",
        "\n",
        "        links = re.findall(\n",
        "            r'(https?:\\/\\/(?:www\\.|(?!www))[a-zA-Z0-9][a-zA-Z0-9-]+[a-zA-Z0-9]\\.[^\\s]{2,}.m3u8)', out)\n",
        "        f.close()\n",
        "        return links\n",
        "\n",
        "    def split_text(payload):\n",
        "        text = []\n",
        "        long_sentence = []\n",
        "        if len(payload) <= 200:\n",
        "            text.append(payload)\n",
        "            return text\n",
        "        elif len(payload) > 200:\n",
        "            sentences = nltk.sent_tokenize(payload)\n",
        "            sub_para = ''\n",
        "\n",
        "            for sen in sentences:\n",
        "                if sub_para == '':\n",
        "                    sub_para = sen\n",
        "\n",
        "                elif sub_para != '':\n",
        "                    if len(sub_para)+len(sen) <= 200 and sen != sentences[-1]:\n",
        "                        sub_para = sub_para + \" \" + sen\n",
        "\n",
        "                    elif len(sub_para)+len(sen) <= 200 and sen == sentences[-1]:\n",
        "                        sub_para = sub_para + \" \" + sen\n",
        "                        long_sentence.append(sub_para)\n",
        "\n",
        "                    elif len(sub_para)+len(sen) > 200:\n",
        "                        long_sentence.append(sub_para)\n",
        "                        sub_para = ''\n",
        "                        sub_para = sen\n",
        "\n",
        "                    elif sen == sentences[-1]:\n",
        "                        long_sentence.append(sub_para)\n",
        "\n",
        "        return long_sentence\n",
        "\n",
        "    def connect_audio(links):\n",
        "        id = 1\n",
        "        path = str(os.getcwd())\n",
        "        full = path + '/tmp_audio/'\n",
        "        command = 'cd '+full+' && rm -rf *'\n",
        "        os.system(command)\n",
        "        f = open('list_name.txt', 'w')\n",
        "        for i in links:\n",
        "            url = i\n",
        "            des_fol = str(os.getcwd())+\"/tmp_audio/\"\n",
        "            namefile = str(id)+\".mp3\"\n",
        "            command = 'ffmpeg  -i '+url+' -ab 256k ' + des_fol + namefile + ' -y'\n",
        "            id = id + 1\n",
        "            os.system(command)\n",
        "            f.write(\"file '\"+full+namefile+\"'\\n\")\n",
        "        f.close()\n",
        "        print(\"done\")\n",
        "\n",
        "    def get_links():\n",
        "        out = open('output.txt', 'r').read()\n",
        "        links = re.findall(\n",
        "            r'(https?:\\/\\/(?:www\\.|(?!www))[a-zA-Z0-9][a-zA-Z0-9-]+[a-zA-Z0-9]\\.[^\\s]{2,}.m3u8)', out)\n",
        "        return links\n",
        "\n",
        "    def mer_audio(id):\n",
        "        path_list = str(os.getcwd()) + \"/list_name.txt\"\n",
        "        path = str(os.getcwd())+\"/final_audio/\"\n",
        "\n",
        "        mp3_path = path+id+\".mp3\"\n",
        "        command = 'ffmpeg -f concat -safe 0 -i ' + \\\n",
        "            path_list + ' -c copy '+mp3_path + ' -y'\n",
        "        os.system(command)\n",
        "\n",
        "        mp3_path = mp3_path.replace(os.getcwd(), '.')\n",
        "\n",
        "        return mp3_path\n",
        "\n",
        "\n",
        "class final_path_mp3():\n",
        "    def get_path_mp3(id, payload, voiceid, speed):\n",
        "        path = str(os.getcwd())+\"/tmp_audio\"\n",
        "        if os.path.exists(path) == False:\n",
        "            os.system(\"mkdir tmp_audio\")\n",
        "        path = str(os.getcwd()) + \"/final_audio\"\n",
        "        if os.path.exists(path) == False:\n",
        "            os.system(\"mkdir final_audio\")\n",
        "        data = text2voice.split_text(payload)\n",
        "        text2voice.zalo_api(data, voiceid, speed)\n",
        "        links = text2voice.get_links()\n",
        "        text2voice.connect_audio(links)\n",
        "        path = text2voice.mer_audio(id)\n",
        "\n",
        "        return path"
      ],
      "metadata": {
        "id": "e9d9A7DRDR6k"
      },
      "execution_count": 14,
      "outputs": []
    },
    {
      "cell_type": "code",
      "source": [
        "# if choice == \"Nữ - Miền Nam\":\n",
        "#     voiceid = '1'\n",
        "#     filename = \"Nữ_Miền_Nam\" + \\\n",
        "#         \"_\" + str(random.randint(1, 10000))\n",
        "# elif choice == \"Nam - Miền Nam\":\n",
        "#     voiceid = '2'\n",
        "#     filename = \"Nam_Miền_Nam\" + \\\n",
        "#         \"_\" + str(random.randint(1, 10000))\n",
        "# elif choice == \"Nữ - Miền Bắc\":\n",
        "#     voiceid = '3'\n",
        "#     filename = \"Nữ_Miền_Bắc\" + \\\n",
        "#         \"_\" + str(random.randint(1, 10000))\n",
        "# elif choice == \"Nam - Miền Bắc\":\n",
        "#     voiceid = '4'\n",
        "#     filename = \"Nam_Miền_Bắc\" + \\\n",
        "#         \"_\" + str(random.randint(1, 10000))\n",
        "# else:\n",
        "#     filename = id\n",
        "#     voiceid = '1'\n",
        "# filename = str(filename)\n",
        "\n",
        "voiceid = '1'\n",
        "filename = \"Nữ_Miền_Nam\" + \\\n",
        "    \"_\" + str(random.randint(1, 10000))\n",
        "\n",
        "payload = 'TP HCM - Đợt Covid-19 lần thứ tư khiến hàng loạt nghịch lý xuất hiện trên thị trường nhà ở và bị đẩy lên đỉnh điểm. 12 tháng qua, thị trường nhà ở TP HCM gặp nhiều thách thức về nguồn cung và thanh khoản do chịu tác động nặng nề bởi đợt Covid-19 lần thứ tư bùng phát. Trong bối cảnh kinh tế khó khăn đình trệ do tập trung phòng chống dịch, bất động sản cũng mất hai quý giữa năm gần như tê liệt hoàn toàn và chỉ gượng dậy chậm chạp vào quý cuối năm. Theo các chuyên gia, biến số Covid-19 đã khiến thị trường nhà ở năm 2021 giảm tốc, xuất hiện nhiều nghịch lý đáng quan ngại.'\n",
        "\n",
        "\n",
        "final_path_mp3.get_path_mp3(\n",
        "            id=filename, payload=payload, voiceid=voiceid, speed=\"1.0\")"
      ],
      "metadata": {
        "colab": {
          "base_uri": "https://localhost:8080/",
          "height": 53
        },
        "id": "JCKUB_CtDVSJ",
        "outputId": "1d8d7260-5937-412a-8510-f3f65712159f"
      },
      "execution_count": 18,
      "outputs": [
        {
          "output_type": "stream",
          "name": "stdout",
          "text": [
            "done\n"
          ]
        },
        {
          "output_type": "execute_result",
          "data": {
            "application/vnd.google.colaboratory.intrinsic+json": {
              "type": "string"
            },
            "text/plain": [
              "'./final_audio/Nữ_Miền_Nam_5859.mp3'"
            ]
          },
          "metadata": {},
          "execution_count": 18
        }
      ]
    },
    {
      "cell_type": "code",
      "source": [
        "!pip install nltk"
      ],
      "metadata": {
        "colab": {
          "base_uri": "https://localhost:8080/"
        },
        "id": "92DLJxH2EA0k",
        "outputId": "da18e41a-d3d4-4622-d9ed-987621f0252d"
      },
      "execution_count": 7,
      "outputs": [
        {
          "output_type": "stream",
          "name": "stdout",
          "text": [
            "Requirement already satisfied: nltk in /usr/local/lib/python3.7/dist-packages (3.2.5)\n",
            "Requirement already satisfied: six in /usr/local/lib/python3.7/dist-packages (from nltk) (1.15.0)\n"
          ]
        }
      ]
    },
    {
      "cell_type": "code",
      "source": [
        "!python -m nltk.downloader punkt"
      ],
      "metadata": {
        "colab": {
          "base_uri": "https://localhost:8080/"
        },
        "id": "K7EK2FkWEkRZ",
        "outputId": "ad5dac33-1da7-44a4-8a56-5b175ad943ee"
      },
      "execution_count": 12,
      "outputs": [
        {
          "output_type": "stream",
          "name": "stdout",
          "text": [
            "/usr/lib/python3.7/runpy.py:125: RuntimeWarning: 'nltk.downloader' found in sys.modules after import of package 'nltk', but prior to execution of 'nltk.downloader'; this may result in unpredictable behaviour\n",
            "  warn(RuntimeWarning(msg))\n",
            "[nltk_data] Downloading package punkt to /root/nltk_data...\n",
            "[nltk_data]   Unzipping tokenizers/punkt.zip.\n"
          ]
        }
      ]
    },
    {
      "cell_type": "code",
      "source": [
        ""
      ],
      "metadata": {
        "id": "bJABCpWXE0zC"
      },
      "execution_count": null,
      "outputs": []
    }
  ]
}