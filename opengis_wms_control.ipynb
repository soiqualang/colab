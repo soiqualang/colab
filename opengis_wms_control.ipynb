{
  "nbformat": 4,
  "nbformat_minor": 0,
  "metadata": {
    "colab": {
      "provenance": [],
      "authorship_tag": "ABX9TyMVbGikZiEcnfvzxUEdCZ77",
      "include_colab_link": true
    },
    "kernelspec": {
      "name": "python3",
      "display_name": "Python 3"
    },
    "language_info": {
      "name": "python"
    }
  },
  "cells": [
    {
      "cell_type": "markdown",
      "metadata": {
        "id": "view-in-github",
        "colab_type": "text"
      },
      "source": [
        "<a href=\"https://colab.research.google.com/github/soiqualang/colab/blob/master/opengis_wms_control.ipynb\" target=\"_parent\"><img src=\"https://colab.research.google.com/assets/colab-badge.svg\" alt=\"Open In Colab\"/></a>"
      ]
    },
    {
      "cell_type": "code",
      "execution_count": null,
      "metadata": {
        "colab": {
          "base_uri": "https://localhost:8080/"
        },
        "id": "JA6KwRBmIXXn",
        "outputId": "81768900-b50b-4107-c664-b8b862294629"
      },
      "outputs": [
        {
          "output_type": "stream",
          "name": "stdout",
          "text": [
            "https://gs-stable.geosolutionsgroup.com/geoserver/wms?SERVICE=WMS&VERSION=1.1.1&REQUEST=GetMap&FORMAT=image%2Fpng&TRANSPARENT=true&LAYERS=tiger-ny&exceptions=application%2Fvnd.ogc.se_inimage&SRS=EPSG%3A4326&WIDTH=531&HEIGHT=768&BBOX=-74.00001598478437%2C40.75953483581543%2C-73.97722793699384%2C40.79249382019043\n"
          ]
        }
      ],
      "source": [
        "from urllib.parse import urlparse, parse_qs, urlencode, urlunparse\n",
        "\n",
        "# Parse URL của dịch vụ WMS\n",
        "url = 'https://gs-stable.geosolutionsgroup.com/geoserver/wms?SERVICE=WMS&VERSION=1.1.1&REQUEST=GetMap&FORMAT=image%2Fpng&TRANSPARENT=true&STYLES&LAYERS=tiger-ny&exceptions=application%2Fvnd.ogc.se_inimage&SRS=EPSG%3A4326&WIDTH=531&HEIGHT=768&BBOX=-73.98199796676636%2C40.75953483581543%2C-73.95920991897583%2C40.79249382019043'\n",
        "parsed_url = urlparse(url)\n",
        "query_params = parse_qs(parsed_url.query)\n",
        "\n",
        "# Lấy tọa độ hiện tại\n",
        "bbox = [float(coord) for coord in query_params['BBOX'][0].split(',')]\n",
        "\n",
        "# Tính toán tọa độ mới dựa trên tọa độ hiện tại và khoảng cách dịch chuyển\n",
        "distance = 2 / 111 # 2km tương đương với khoảng cách 2/111 độ\n",
        "bbox[0] -= distance\n",
        "bbox[2] -= distance\n",
        "\n",
        "# Cập nhật URL với tọa độ mới\n",
        "query_params['BBOX'] = [','.join(str(coord) for coord in bbox)]\n",
        "updated_query = urlencode(query_params, doseq=True)\n",
        "updated_url = urlunparse(parsed_url._replace(query=updated_query))\n",
        "\n",
        "# Truy cập vào URL mới để nhận được bản đồ đã dịch chuyển\n",
        "# Tiếp theo, bạn có thể sử dụng thư viện PIL để tải và xử lý bản đồ đã dịch chuyển\n",
        "\n",
        "print(updated_url)"
      ]
    },
    {
      "cell_type": "code",
      "source": [],
      "metadata": {
        "id": "LgRWq3ItIsgC"
      },
      "execution_count": null,
      "outputs": []
    },
    {
      "cell_type": "markdown",
      "source": [],
      "metadata": {
        "id": "mdIuT6xcKlSV"
      }
    },
    {
      "cell_type": "code",
      "source": [
        "import requests\n",
        "import math\n",
        "\n",
        "def move_map_left(distance, wms_url):\n",
        "    bbox = get_bbox(wms_url)\n",
        "    bbox[0] -= distance / (111 * math.cos(math.radians(bbox[1])))\n",
        "    update_bbox(bbox, wms_url)\n",
        "\n",
        "def move_map_right(distance, wms_url):\n",
        "    bbox = get_bbox(wms_url)\n",
        "    bbox[0] += distance / (111 * math.cos(math.radians(bbox[1])))\n",
        "    update_bbox(bbox, wms_url)\n",
        "\n",
        "def move_map_up(distance, wms_url):\n",
        "    bbox = get_bbox(wms_url)\n",
        "    bbox[1] += distance / 111\n",
        "    update_bbox(bbox, wms_url)\n",
        "\n",
        "def move_map_down(distance, wms_url):\n",
        "    bbox = get_bbox(wms_url)\n",
        "    bbox[1] -= distance / 111\n",
        "    update_bbox(bbox, wms_url)\n",
        "\n",
        "def get_bbox(wms_url):\n",
        "    # response = requests.get(wms_url)\n",
        "    # bbox_str = response.url.split('BBOX=')[1].split('&')[0]\n",
        "    # bbox = list(map(float, bbox_str.split(',')))\n",
        "\n",
        "    # Parse URL của dịch vụ WMS\n",
        "    # url = 'https://gs-stable.geosolutionsgroup.com/geoserver/wms?SERVICE=WMS&VERSION=1.1.1&REQUEST=GetMap&FORMAT=image%2Fpng&TRANSPARENT=true&STYLES&LAYERS=tiger-ny&exceptions=application%2Fvnd.ogc.se_inimage&SRS=EPSG%3A4326&WIDTH=531&HEIGHT=768&BBOX=-73.98199796676636%2C40.75953483581543%2C-73.95920991897583%2C40.79249382019043'\n",
        "    parsed_url = urlparse(wms_url)\n",
        "    query_params = parse_qs(parsed_url.query)\n",
        "\n",
        "    # Lấy tọa độ hiện tại\n",
        "    bbox = [float(coord) for coord in query_params['BBOX'][0].split(',')]\n",
        "    return bbox\n",
        "\n",
        "def update_bbox(bbox, wms_url):\n",
        "    bbox_str = ','.join(str(coord) for coord in bbox)\n",
        "    updated_url = wms_url.replace(wms_url.split('BBOX=')[1].split('&')[0], bbox_str)\n",
        "    print(updated_url)  # In thử URL đã được cập nhật\n",
        "\n",
        "# Sử dụng các hàm để dịch chuyển khung nhìn bản đồ\n",
        "distance = 1  # Khoảng cách dịch chuyển là 1km\n",
        "wms_url = \"https://gs-stable.geosolutionsgroup.com/geoserver/wms?SERVICE=WMS&VERSION=1.1.1&REQUEST=GetMap&FORMAT=image/png&TRANSPARENT=true&STYLES&LAYERS=tiger-ny&exceptions=application/vnd.ogc.se_inimage&SRS=EPSG:4326&WIDTH=531&HEIGHT=768&BBOX=-73.98199796676636,40.75953483581543,-73.95920991897583,40.79249382019043\"\n",
        "\n",
        "move_map_left(distance, wms_url)  # Dịch chuyển bản đồ sang trái\n",
        "move_map_right(distance, wms_url)  # Dịch chuyển bản đồ sang phải\n",
        "move_map_up(distance, wms_url)  # Dịch chuyển bản đồ lên\n",
        "move_map_down(distance, wms_url)  # Dịch chuyển bản đồ xuống"
      ],
      "metadata": {
        "colab": {
          "base_uri": "https://localhost:8080/"
        },
        "id": "A25zTolfKl9M",
        "outputId": "735004f7-4000-4c7d-9a84-2d587e9eb505"
      },
      "execution_count": null,
      "outputs": [
        {
          "output_type": "stream",
          "name": "stdout",
          "text": [
            "https://gs-stable.geosolutionsgroup.com/geoserver/wms?SERVICE=WMS&VERSION=1.1.1&REQUEST=GetMap&FORMAT=image/png&TRANSPARENT=true&STYLES&LAYERS=tiger-ny&exceptions=application/vnd.ogc.se_inimage&SRS=EPSG:4326&WIDTH=531&HEIGHT=768&BBOX=-73.99389173340295,40.75953483581543,-73.95920991897583,40.79249382019043\n",
            "https://gs-stable.geosolutionsgroup.com/geoserver/wms?SERVICE=WMS&VERSION=1.1.1&REQUEST=GetMap&FORMAT=image/png&TRANSPARENT=true&STYLES&LAYERS=tiger-ny&exceptions=application/vnd.ogc.se_inimage&SRS=EPSG:4326&WIDTH=531&HEIGHT=768&BBOX=-73.97010420012977,40.75953483581543,-73.95920991897583,40.79249382019043\n",
            "https://gs-stable.geosolutionsgroup.com/geoserver/wms?SERVICE=WMS&VERSION=1.1.1&REQUEST=GetMap&FORMAT=image/png&TRANSPARENT=true&STYLES&LAYERS=tiger-ny&exceptions=application/vnd.ogc.se_inimage&SRS=EPSG:4326&WIDTH=531&HEIGHT=768&BBOX=-73.98199796676636,40.768543844824435,-73.95920991897583,40.79249382019043\n",
            "https://gs-stable.geosolutionsgroup.com/geoserver/wms?SERVICE=WMS&VERSION=1.1.1&REQUEST=GetMap&FORMAT=image/png&TRANSPARENT=true&STYLES&LAYERS=tiger-ny&exceptions=application/vnd.ogc.se_inimage&SRS=EPSG:4326&WIDTH=531&HEIGHT=768&BBOX=-73.98199796676636,40.750525826806424,-73.95920991897583,40.79249382019043\n"
          ]
        }
      ]
    },
    {
      "cell_type": "code",
      "source": [],
      "metadata": {
        "id": "3RAknAObKnAp"
      },
      "execution_count": null,
      "outputs": []
    }
  ]
}