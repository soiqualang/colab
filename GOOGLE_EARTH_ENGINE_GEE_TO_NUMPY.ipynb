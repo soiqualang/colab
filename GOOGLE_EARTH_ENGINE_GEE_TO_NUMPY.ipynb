{
  "nbformat": 4,
  "nbformat_minor": 0,
  "metadata": {
    "colab": {
      "name": "GOOGLE EARTH ENGINE TO NUMPY.ipynb",
      "provenance": [],
      "include_colab_link": true
    },
    "kernelspec": {
      "name": "python3",
      "display_name": "Python 3"
    }
  },
  "cells": [
    {
      "cell_type": "markdown",
      "metadata": {
        "id": "view-in-github",
        "colab_type": "text"
      },
      "source": [
        "<a href=\"https://colab.research.google.com/github/soiqualang/colab/blob/master/GOOGLE_EARTH_ENGINE_GEE_TO_NUMPY.ipynb\" target=\"_parent\"><img src=\"https://colab.research.google.com/assets/colab-badge.svg\" alt=\"Open In Colab\"/></a>"
      ]
    },
    {
      "cell_type": "markdown",
      "metadata": {
        "id": "dec8mOeFe9n1"
      },
      "source": [
        "# GOOGLE EARTH ENGINE TO NUMPY\n",
        "\n",
        "https://mygeoblog.com/2019/08/21/google-earth-engine-to-numpy/"
      ]
    },
    {
      "cell_type": "code",
      "metadata": {
        "id": "7pNyl0yee1i2"
      },
      "source": [
        "import ee\n",
        "import numpy as np\n",
        "from osgeo import gdal\n",
        "from osgeo import osr\n",
        "import time\n",
        " \n",
        "# init the ee object\n",
        "ee.Initialize()\n",
        " \n",
        "# Define the roi\n",
        "area = ee.Geometry.Polygon([[105.4084512289977,12.960956032145036],\\\n",
        "                            [105.46544280614614,12.960956032145036],\\\n",
        "                            [105.46544280614614,13.006454200439705],\\\n",
        "                            [105.4084512289977,13.006454200439705],\\\n",
        "                            [105.4084512289977,12.960956032145036]])\n",
        " \n",
        "# define the image\n",
        "collection = ee.ImageCollection(\"COPERNICUS/S2\").filterBounds(area)\\\n",
        "                                      .filterDate(\"2018-01-01\",\"2019-01-10\")\\\n",
        "                                      .filterMetadata(\"CLOUDY_PIXEL_PERCENTAGE\",\"less_than\",10)\\\n",
        "                                      .select(['B8', 'B4'])\n",
        " \n",
        "print(\" number of image: \",collection.size().getInfo())\n",
        " \n",
        "# perform any calculation on the image collection here\n",
        "def anyFunction(img):\n",
        "    ndvi = ee.Image(img.normalizedDifference(['B8', 'B4'])).rename([\"ndvi\"])\n",
        "    return ndvi\n",
        " \n",
        "# export the latitude, longitude and array\n",
        "def LatLonImg(img):\n",
        "    img = img.addBands(ee.Image.pixelLonLat())\n",
        " \n",
        "    img = img.reduceRegion(reducer=ee.Reducer.toList(),\\\n",
        "                                        geometry=area,\\\n",
        "                                        maxPixels=1e13,\\\n",
        "                                        scale=10);\n",
        " \n",
        "    data = np.array((ee.Array(img.get(\"result\")).getInfo()))\n",
        "    lats = np.array((ee.Array(img.get(\"latitude\")).getInfo()))\n",
        "    lons = np.array((ee.Array(img.get(\"longitude\")).getInfo()))\n",
        "    return lats, lons, data\n",
        " \n",
        "# covert the lat, lon and array into an image\n",
        "def toImage(lats,lons,data):\n",
        " \n",
        "    # get the unique coordinates\n",
        "    uniqueLats = np.unique(lats)\n",
        "    uniqueLons = np.unique(lons)\n",
        " \n",
        "    # get number of columns and rows from coordinates\n",
        "    ncols = len(uniqueLons)\n",
        "    nrows = len(uniqueLats)\n",
        " \n",
        "    # determine pixelsizes\n",
        "    ys = uniqueLats[1] - uniqueLats[0]\n",
        "    xs = uniqueLons[1] - uniqueLons[0]\n",
        " \n",
        "    # create an array with dimensions of image\n",
        "    arr = np.zeros([nrows, ncols], np.float32) #-9999\n",
        " \n",
        "    # fill the array with values\n",
        "    counter =0\n",
        "    for y in range(0,len(arr),1):\n",
        "        for x in range(0,len(arr[0]),1):\n",
        "            if lats[counter] == uniqueLats[y] and lons[counter] == uniqueLons[x] and counter < len(lats)-1:\n",
        "                counter+=1\n",
        "                arr[len(uniqueLats)-1-y,x] = data[counter] # we start from lower left corner\n",
        "    return arr\n",
        " \n",
        "# map over the image collection\n",
        "myCollection  = collection.map(anyFunction)\n",
        " \n",
        "# get the median\n",
        "result = ee.Image(myCollection.median()).rename(['result'])\n",
        " \n",
        "# get the lon, lat and result as 1d array\n",
        "lat, lon, data = LatLonImg(result)\n",
        " \n",
        "# 1d to 2d array\n",
        "image  = toImage(lat,lon,data)\n",
        " \n",
        "# in case you want to plot the image\n",
        "import matplotlib.pyplot as plt\n",
        "plt.imshow(image)\n",
        "plt.show()"
      ],
      "execution_count": null,
      "outputs": []
    },
    {
      "cell_type": "code",
      "metadata": {
        "id": "v831IExMe7j9"
      },
      "source": [
        ""
      ],
      "execution_count": null,
      "outputs": []
    }
  ]
}